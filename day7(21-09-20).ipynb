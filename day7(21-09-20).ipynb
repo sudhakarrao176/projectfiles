{
 "cells": [
  {
   "cell_type": "code",
   "execution_count": 3,
   "metadata": {},
   "outputs": [
    {
     "name": "stdout",
     "output_type": "stream",
     "text": [
      "enter start value3\n",
      "4,6,8,10,12,14,16,18,20,22,24,26,28,30,32,34,36,38,40,42,44,46,48,50,52,54,56,58,60,62,64,66,68,70,72,74,76,78,80,82,84,86,88,90,92,94,96,98,100,"
     ]
    }
   ],
   "source": [
    "a=int(input('enter start value'))\n",
    "if(a%2==0):\n",
    "    for x in range(a,101,2):\n",
    "        print(x,end=',')\n",
    "else:\n",
    "    for x in range(a+1,101,2):\n",
    "        print(x,end=',')\n"
   ]
  },
  {
   "cell_type": "code",
   "execution_count": 1,
   "metadata": {},
   "outputs": [
    {
     "name": "stdout",
     "output_type": "stream",
     "text": [
      "2\n",
      "2 X 1 = 2\n",
      "2 X 2 = 4\n",
      "2 X 3 = 6\n",
      "2 X 4 = 8\n",
      "2 X 5 = 10\n",
      "2 X 6 = 12\n",
      "2 X 7 = 14\n",
      "2 X 8 = 16\n",
      "2 X 9 = 18\n",
      "2 X 10 = 20\n"
     ]
    }
   ],
   "source": [
    "\n",
    "n  = int(input())\n",
    "for i in range(2,n+1):\n",
    "    for j in range(1,11):\n",
    "        print(i,'X',j,'=',i*j)"
   ]
  },
  {
   "cell_type": "code",
   "execution_count": 2,
   "metadata": {},
   "outputs": [
    {
     "name": "stdout",
     "output_type": "stream",
     "text": [
      "4\n",
      "4 6 8 10 12 14 16 18 20 22 24 26 28 30 32 34 36 38 40 42 44 46 48 50 52 54 56 58 60 62 64 66 68 70 72 74 76 78 80 82 84 86 88 90 92 94 96 98 100 "
     ]
    }
   ],
   "source": [
    "\n",
    "n = int(input())\n",
    "for x in range(n,101,2):\n",
    "     print(x,end=' ')"
   ]
  },
  {
   "cell_type": "markdown",
   "metadata": {},
   "source": [
    "\n",
    "# Functions\n",
    "it is set of statements\n",
    "used to perform a particular task (or) it performs specific task\n",
    "reuse the code (or) we can use same function many times\n",
    "we can pass arguments and we can return result\n",
    "we have 2 diff types\n",
    "\n",
    "userdefined function\n",
    "predefined or library or builtin functions #### User Defined functions:\n",
    "\n",
    "user can define his own functionality\n",
    "\n",
    "syntax\n",
    "\n",
    "``` def function_name(param1,param2,...,):\n",
    "\n",
    "     # body of tyhe loop ```\n",
    "we can implement this UserDefined functions in 4 diff ways\n",
    "those are\n",
    "no arguments and no return value.\n",
    "no arguments and a return value.\n",
    "with arguments and no return value.\n",
    "with arguments and a return value."
   ]
  },
  {
   "cell_type": "code",
   "execution_count": 4,
   "metadata": {},
   "outputs": [],
   "source": [
    "# no arguments and no return value\n",
    "\n",
    "def hello():\n",
    "    print('Hi , iam from Hello()')"
   ]
  },
  {
   "cell_type": "code",
   "execution_count": 5,
   "metadata": {},
   "outputs": [
    {
     "name": "stdout",
     "output_type": "stream",
     "text": [
      "Hi , iam from Hello()\n"
     ]
    }
   ],
   "source": [
    "hello()"
   ]
  },
  {
   "cell_type": "code",
   "execution_count": 7,
   "metadata": {},
   "outputs": [],
   "source": [
    "# no arguments and a return value\n",
    "def Hellow1():\n",
    "    return 'i am from Hellow1'\n"
   ]
  },
  {
   "cell_type": "code",
   "execution_count": 8,
   "metadata": {},
   "outputs": [
    {
     "data": {
      "text/plain": [
       "'i am from Hellow1'"
      ]
     },
     "execution_count": 8,
     "metadata": {},
     "output_type": "execute_result"
    }
   ],
   "source": [
    "Hellow1()"
   ]
  },
  {
   "cell_type": "code",
   "execution_count": 9,
   "metadata": {},
   "outputs": [],
   "source": [
    "\n",
    "# with arguments and no return value.\n",
    "def add(n1,n2):\n",
    "    print('sum of n1 and n2 is:',n1+n2)"
   ]
  },
  {
   "cell_type": "code",
   "execution_count": 10,
   "metadata": {},
   "outputs": [
    {
     "name": "stdout",
     "output_type": "stream",
     "text": [
      "sum of n1 and n2 is: 100\n"
     ]
    }
   ],
   "source": [
    "a,b=45,55\n",
    "add(a,b)"
   ]
  },
  {
   "cell_type": "code",
   "execution_count": 12,
   "metadata": {},
   "outputs": [],
   "source": [
    "\n",
    "# with arguments and a return value\n",
    "def mul(x1,x2):\n",
    "    return x1*x2"
   ]
  },
  {
   "cell_type": "code",
   "execution_count": 13,
   "metadata": {},
   "outputs": [
    {
     "name": "stdout",
     "output_type": "stream",
     "text": [
      "mul of n1 and n2 is: 20\n"
     ]
    }
   ],
   "source": [
    "\n",
    "n1,n2=5,4\n",
    "rs = mul(n1,n2)\n",
    "print('mul of n1 and n2 is:',rs)"
   ]
  },
  {
   "cell_type": "code",
   "execution_count": 14,
   "metadata": {},
   "outputs": [
    {
     "name": "stdout",
     "output_type": "stream",
     "text": [
      "mul of n1 and n2 is: 25\n"
     ]
    }
   ],
   "source": [
    "\n",
    "n1,n2=5,5\n",
    "print('mul of n1 and n2 is:',mul(n1,n2))"
   ]
  },
  {
   "cell_type": "code",
   "execution_count": 15,
   "metadata": {},
   "outputs": [],
   "source": [
    "# implement function on all arithmentic operators\n",
    "def add(n1,n2):\n",
    "    return n1+n2\n",
    "\n",
    "def sub(n1,n2):\n",
    "    return n1-n2\n",
    "\n",
    "def mul(x1,x2):\n",
    "    return x1*x2\n",
    "\n",
    "def div(n1,n2):\n",
    "    return n1/n1"
   ]
  },
  {
   "cell_type": "code",
   "execution_count": 16,
   "metadata": {},
   "outputs": [
    {
     "name": "stdout",
     "output_type": "stream",
     "text": [
      "2\n",
      "3\n",
      "5\n",
      "1.0\n"
     ]
    }
   ],
   "source": [
    "v1 = int(input())\n",
    "v2 = int(input())\n",
    "rs1 = add(v1,v2)\n",
    "print(rs1)\n",
    "rs1 = div(v1,v2)\n",
    "print(rs1)"
   ]
  },
  {
   "cell_type": "code",
   "execution_count": null,
   "metadata": {},
   "outputs": [],
   "source": []
  }
 ],
 "metadata": {
  "kernelspec": {
   "display_name": "Python 3",
   "language": "python",
   "name": "python3"
  },
  "language_info": {
   "codemirror_mode": {
    "name": "ipython",
    "version": 3
   },
   "file_extension": ".py",
   "mimetype": "text/x-python",
   "name": "python",
   "nbconvert_exporter": "python",
   "pygments_lexer": "ipython3",
   "version": "3.7.4"
  }
 },
 "nbformat": 4,
 "nbformat_minor": 4
}
