{
 "cells": [
  {
   "cell_type": "markdown",
   "metadata": {},
   "source": [
    "# starting number upto given number"
   ]
  },
  {
   "cell_type": "code",
   "execution_count": 1,
   "metadata": {},
   "outputs": [
    {
     "name": "stdout",
     "output_type": "stream",
     "text": [
      "enter a number1\n",
      "enter a number10\n",
      "enter staring number from 2\n",
      "2 3 5 7 "
     ]
    }
   ],
   "source": [
    "first=int(input(\"enter a number\"))\n",
    "end=int(input(\"enter a number\"))\n",
    "for i in range(first,end+1):\n",
    "    if(i>1):\n",
    "        c=0\n",
    "        for j in range(2,i):\n",
    "            if(i%j==0):\n",
    "                c=c+1\n",
    "        if(c==0):\n",
    "                print(i,end=\" \")\n",
    "    else:\n",
    "            print(\"enter staring number from 2\")"
   ]
  },
  {
   "cell_type": "code",
   "execution_count": null,
   "metadata": {},
   "outputs": [],
   "source": []
  }
 ],
 "metadata": {
  "kernelspec": {
   "display_name": "Python 3",
   "language": "python",
   "name": "python3"
  },
  "language_info": {
   "codemirror_mode": {
    "name": "ipython",
    "version": 3
   },
   "file_extension": ".py",
   "mimetype": "text/x-python",
   "name": "python",
   "nbconvert_exporter": "python",
   "pygments_lexer": "ipython3",
   "version": "3.7.4"
  }
 },
 "nbformat": 4,
 "nbformat_minor": 4
}
