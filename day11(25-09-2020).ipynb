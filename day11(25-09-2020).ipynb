{
 "cells": [
  {
   "cell_type": "code",
   "execution_count": 1,
   "metadata": {},
   "outputs": [
    {
     "name": "stdout",
     "output_type": "stream",
     "text": [
      "abc\n",
      "ABC\n"
     ]
    }
   ],
   "source": [
    "def swap_case(s):\n",
    "    return s.swapcase()\n",
    "m=input()\n",
    "print(swap_case(m))"
   ]
  },
  {
   "cell_type": "code",
   "execution_count": null,
   "metadata": {},
   "outputs": [],
   "source": [
    "def split_and_join(line):\n",
    "    return line.replace(\" \",\"-\")\n",
    "\n",
    "if __name__ == '__main__':\n",
    "    line = input()\n",
    "    result = split_and_join(line)\n",
    "    print(result)"
   ]
  },
  {
   "cell_type": "code",
   "execution_count": 4,
   "metadata": {},
   "outputs": [
    {
     "data": {
      "text/plain": [
       "'s@%y&q'"
      ]
     },
     "execution_count": 4,
     "metadata": {},
     "output_type": "execute_result"
    }
   ],
   "source": [
    "y=\"asr@R%qyd&uq\"\n",
    "y[1::2]"
   ]
  },
  {
   "cell_type": "code",
   "execution_count": 5,
   "metadata": {},
   "outputs": [
    {
     "name": "stdout",
     "output_type": "stream",
     "text": [
      "['__add__', '__class__', '__contains__', '__delattr__', '__dir__', '__doc__', '__eq__', '__format__', '__ge__', '__getattribute__', '__getitem__', '__getnewargs__', '__gt__', '__hash__', '__init__', '__init_subclass__', '__iter__', '__le__', '__len__', '__lt__', '__mod__', '__mul__', '__ne__', '__new__', '__reduce__', '__reduce_ex__', '__repr__', '__rmod__', '__rmul__', '__setattr__', '__sizeof__', '__str__', '__subclasshook__', 'capitalize', 'casefold', 'center', 'count', 'encode', 'endswith', 'expandtabs', 'find', 'format', 'format_map', 'index', 'isalnum', 'isalpha', 'isascii', 'isdecimal', 'isdigit', 'isidentifier', 'islower', 'isnumeric', 'isprintable', 'isspace', 'istitle', 'isupper', 'join', 'ljust', 'lower', 'lstrip', 'maketrans', 'partition', 'replace', 'rfind', 'rindex', 'rjust', 'rpartition', 'rsplit', 'rstrip', 'split', 'splitlines', 'startswith', 'strip', 'swapcase', 'title', 'translate', 'upper', 'zfill']\n"
     ]
    }
   ],
   "source": [
    "print(dir(str))"
   ]
  },
  {
   "cell_type": "code",
   "execution_count": 6,
   "metadata": {},
   "outputs": [
    {
     "data": {
      "text/plain": [
       "'arRqdu'"
      ]
     },
     "execution_count": 6,
     "metadata": {},
     "output_type": "execute_result"
    }
   ],
   "source": [
    "y[0::2]"
   ]
  },
  {
   "cell_type": "code",
   "execution_count": 42,
   "metadata": {},
   "outputs": [
    {
     "name": "stdout",
     "output_type": "stream",
     "text": [
      "odd place position characters are: s @ 1 q 6 & \n",
      "even place position characters are: a r R % Y d \n",
      "count of odd characters: 6\n",
      "count of even characters: 6\n",
      "upper case characters are:{} R Y \n",
      "lower case characters are:{} a s r q d u q \n",
      "numeric characters are:{} 1 6 8 \n",
      "special characters are:{} @ % & \n"
     ]
    }
   ],
   "source": [
    "def oddpc(t):\n",
    "    o,e=\"\",\"\"\n",
    "    oc,ec=0,0\n",
    "    for l in range(len(y)):\n",
    "        if(l%2!=0):\n",
    "            o+=t[l]+\" \"\n",
    "            oc+=1\n",
    "        else:\n",
    "            e+=t[l]+\" \"\n",
    "            ec+=1\n",
    "    print(\"odd place position characters are:\",format(o))\n",
    "    print(\"even place position characters are:\",format(e))\n",
    "    print(\"count of odd characters:\",format(oc))\n",
    "    print(\"count of even characters:\",format(ec))\n",
    "def spch(d):\n",
    "    u,l,i,s=\"\",\"\",\"\",\"\"\n",
    "    for v in d:\n",
    "        if v.isupper():\n",
    "            u+=v+\" \"\n",
    "        elif v.islower():\n",
    "            l+=v+\" \"\n",
    "        elif v.isnumeric():\n",
    "            i+=v+\" \"\n",
    "        else:\n",
    "            s+=v+\" \"\n",
    "    print(\"upper case characters are:{}\",format(u))\n",
    "    print(\"lower case characters are:{}\",format(l))\n",
    "    print(\"numeric characters are:{}\",format(i))\n",
    "    print(\"special characters are:{}\",format(s))\n",
    "\n",
    "m=\"asr@R1%qY6d&u8q\"\n",
    "oddpc(m)\n",
    "spch(m)\n",
    "\n"
   ]
  }
 ],
 "metadata": {
  "kernelspec": {
   "display_name": "Python 3",
   "language": "python",
   "name": "python3"
  },
  "language_info": {
   "codemirror_mode": {
    "name": "ipython",
    "version": 3
   },
   "file_extension": ".py",
   "mimetype": "text/x-python",
   "name": "python",
   "nbconvert_exporter": "python",
   "pygments_lexer": "ipython3",
   "version": "3.8.5"
  }
 },
 "nbformat": 4,
 "nbformat_minor": 4
}
