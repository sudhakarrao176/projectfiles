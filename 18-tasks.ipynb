{
 "cells": [
  {
   "cell_type": "markdown",
   "metadata": {},
   "source": [
    "# task1"
   ]
  },
  {
   "cell_type": "code",
   "execution_count": 2,
   "metadata": {},
   "outputs": [
    {
     "name": "stdout",
     "output_type": "stream",
     "text": [
      "234 is greater\n"
     ]
    }
   ],
   "source": [
    "a=34\n",
    "b=234\n",
    "if(a >= b):\n",
    "  print(a, \"is greater\")\n",
    "else:\n",
    "  print(b, \"is greater\")"
   ]
  },
  {
   "cell_type": "markdown",
   "metadata": {},
   "source": [
    "# task 2"
   ]
  },
  {
   "cell_type": "code",
   "execution_count": 5,
   "metadata": {},
   "outputs": [
    {
     "name": "stdout",
     "output_type": "stream",
     "text": [
      "20 is big\n"
     ]
    }
   ],
   "source": [
    "a=int(input('enter a number'))\n",
    "b=int(input('enter a number'))\n",
    "c=15\n",
    "if (a >= b) and (a >= c): \n",
    "        largest = a \n",
    "elif (b >= a) and (b >= c): \n",
    "        largest = b \n",
    "else: \n",
    "        largest = c \n",
    "print(largest,\"is big\")\n",
    "  "
   ]
  },
  {
   "cell_type": "markdown",
   "metadata": {},
   "source": [
    "# task 3"
   ]
  },
  {
   "cell_type": "code",
   "execution_count": 19,
   "metadata": {},
   "outputs": [
    {
     "name": "stdout",
     "output_type": "stream",
     "text": [
      "enter a number56\n",
      "56 is a even number\n",
      "3136\n"
     ]
    }
   ],
   "source": [
    " check=int(input('enter a number'))\n",
    "if(check%2)==0:\n",
    "    print(check,\"is a even number\")\n",
    "    check =check ** 2\n",
    "    print(check)\n",
    "else:\n",
    "    check =check*5\n",
    "    print(check,\"is a odd number\")\n",
    "    print(check)\n",
    "    "
   ]
  },
  {
   "cell_type": "markdown",
   "metadata": {},
   "source": [
    "# task 4"
   ]
  },
  {
   "cell_type": "code",
   "execution_count": 12,
   "metadata": {},
   "outputs": [
    {
     "name": "stdout",
     "output_type": "stream",
     "text": [
      "enter a number50\n",
      "50 is multiple of 5\n"
     ]
    }
   ],
   "source": [
    "a=int(input('enter a number'))\n",
    "if(a%5==0):\n",
    "    print(a,\"is multiple of 5\")\n",
    "else:\n",
    "    print(a,\"not a multiple of 5\")"
   ]
  },
  {
   "cell_type": "code",
   "execution_count": null,
   "metadata": {},
   "outputs": [],
   "source": []
  }
 ],
 "metadata": {
  "kernelspec": {
   "display_name": "Python 3",
   "language": "python",
   "name": "python3"
  },
  "language_info": {
   "codemirror_mode": {
    "name": "ipython",
    "version": 3
   },
   "file_extension": ".py",
   "mimetype": "text/x-python",
   "name": "python",
   "nbconvert_exporter": "python",
   "pygments_lexer": "ipython3",
   "version": "3.7.4"
  }
 },
 "nbformat": 4,
 "nbformat_minor": 4
}
